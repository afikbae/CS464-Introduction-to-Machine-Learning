{
 "cells": [
  {
   "cell_type": "code",
   "execution_count": 2,
   "id": "994af345-5635-4b53-89f0-a174b339806a",
   "metadata": {},
   "outputs": [],
   "source": [
    "import numpy as np"
   ]
  },
  {
   "cell_type": "code",
   "execution_count": 3,
   "id": "0f7f9fca-bf2a-4072-8dd2-7d08cb44b505",
   "metadata": {},
   "outputs": [
    {
     "name": "stdout",
     "output_type": "stream",
     "text": [
      "29.956521739130437 33.130434782608695 36.91304347826087\n",
      "30.142857142857142 34.0 35.85714285714286\n"
     ]
    }
   ],
   "source": [
    "y_train = np.genfromtxt(\"../dataset/y_train.csv\", delimiter=\",\", dtype=int)\n",
    "y_test = np.genfromtxt(\"../dataset/y_test.csv\", delimiter=\",\", dtype=int)\n",
    "\n",
    "print((y_train == 0).sum()/y_train.shape[0]*100, (y_train == 1).sum()/y_train.shape[0]*100, (y_train == 2).sum()/y_train.shape[0]*100)\n",
    "print((y_test == 0).sum()/y_test.shape[0]*100, (y_test == 1).sum()/y_test.shape[0]*100, (y_test == 2).sum()/y_test.shape[0]*100)"
   ]
  },
  {
   "cell_type": "code",
   "execution_count": 4,
   "id": "7f3d148f-c28b-4668-903b-6464f6339063",
   "metadata": {},
   "outputs": [],
   "source": [
    "x_train = np.genfromtxt(\"../dataset/x_train.csv\", delimiter=\",\", dtype=str)\n",
    "x_test = np.genfromtxt(\"../dataset/x_test.csv\", delimiter=\",\", dtype=str)"
   ]
  },
  {
   "cell_type": "code",
   "execution_count": 5,
   "id": "ce3ea9c3-f6d2-446e-8a71-16a056d8dba3",
   "metadata": {},
   "outputs": [],
   "source": [
    "train_labels = x_train[0]\n",
    "train_data = x_train[1:].astype(int)\n",
    "\n",
    "test_labels = x_test[0]\n",
    "test_data = x_test[1:].astype(int)"
   ]
  },
  {
   "cell_type": "code",
   "execution_count": 5,
   "id": "fd9988da-9046-4886-819a-3fa446da8726",
   "metadata": {},
   "outputs": [
    {
     "name": "stdout",
     "output_type": "stream",
     "text": [
      "indices: 985 167\n",
      "counts: 207 12\n",
      "total number of words: 15068\n",
      "log good prob: -4.287609775546563\n",
      "log bad prob: -7.135421919023932\n",
      "ratio: 0.6008908546970791\n"
     ]
    }
   ],
   "source": [
    "good_index = np.where(train_labels == 'good')[0][0]\n",
    "bad_index = np.where(train_labels == 'bad')[0][0]\n",
    "\n",
    "print('indices:', good_index, bad_index)\n",
    "\n",
    "train_data_positive = train_data[np.where(y_train == 2)]\n",
    "\n",
    "good_count = train_data_positive[:,good_index].sum()\n",
    "bad_count = train_data_positive[:,bad_index].sum()\n",
    "total_count = train_data_positive.sum()\n",
    "\n",
    "print('counts:', good_count, bad_count)\n",
    "print('total number of words:', total_count)\n",
    "\n",
    "log_good_prob = np.log(good_count/total_count)\n",
    "log_bad_prob = np.log(bad_count/total_count)\n",
    "\n",
    "print('log good prob:', log_good_prob)\n",
    "print('log bad prob:', log_bad_prob)\n",
    "print('ratio:', log_good_prob/log_bad_prob)"
   ]
  },
  {
   "cell_type": "code",
   "execution_count": 49,
   "id": "0e880b56-9517-480d-ba88-29090e5cf60b",
   "metadata": {},
   "outputs": [],
   "source": [
    "def T_sum(y):\n",
    "    return train_data[np.where(y_train==y),:].sum()\n",
    "\n",
    "def T(j, y):\n",
    "    return train_data[np.where(y_train==y),np.where(train_labels==j)].sum()\n",
    "\n",
    "def N(y):\n",
    "    return (y_train == y).sum()\n",
    "\n",
    "_N = y_train.shape[0]\n",
    "\n",
    "def pi(y):\n",
    "    return N(y) / _N\n",
    "\n",
    "def theta(j, y):\n",
    "    return T(j, y) / T_sum(y)\n",
    "\n"
   ]
  },
  {
   "cell_type": "code",
   "execution_count": 52,
   "id": "5be215e9-91db-4773-bec0-00460b27eca9",
   "metadata": {},
   "outputs": [
    {
     "name": "stderr",
     "output_type": "stream",
     "text": [
      "/tmp/ipykernel_43829/3480172601.py:2: RuntimeWarning: divide by zero encountered in log\n",
      "  conds = np.clip(np.log(np.array([[theta(j,y) for j in train_labels] for y in [0,1,2]])), a_min=1e-12, a_max=None)\n"
     ]
    }
   ],
   "source": [
    "priors = np.clip(np.log(np.array([pi(y) for y in [0,1,2]])), a_min=1e-12, a_max=None)\n",
    "conds = np.clip(np.log(np.array([[theta(j,y) for j in train_labels] for y in [0,1,2]])), a_min=1e-12, a_max=None)"
   ]
  },
  {
   "cell_type": "code",
   "execution_count": 54,
   "id": "688de9d9-ed92-4377-afbf-5c58608d6b17",
   "metadata": {},
   "outputs": [
    {
     "data": {
      "text/plain": [
       "array([[1.e-12, 1.e-12, 1.e-12, ..., 1.e-12, 1.e-12, 1.e-12],\n",
       "       [1.e-12, 1.e-12, 1.e-12, ..., 1.e-12, 1.e-12, 1.e-12],\n",
       "       [1.e-12, 1.e-12, 1.e-12, ..., 1.e-12, 1.e-12, 1.e-12]])"
      ]
     },
     "execution_count": 54,
     "metadata": {},
     "output_type": "execute_result"
    }
   ],
   "source": []
  },
  {
   "cell_type": "code",
   "execution_count": 6,
   "id": "f03b925e-769c-4ab9-8122-c133ac599e2c",
   "metadata": {},
   "outputs": [
    {
     "name": "stdout",
     "output_type": "stream",
     "text": [
      "(3, 3000) (3, 1)\n"
     ]
    }
   ],
   "source": [
    "num_classes = np.max(y_train) + 1\n",
    "num_features = train_data.shape[1]\n",
    "num_samples = y_train.shape[0]\n",
    "\n",
    "counts = np.bincount(y_train, minlength=num_classes)\n",
    "_N = num_samples\n",
    "pi = counts / _N\n",
    "pi = np.clip(pi, a_min=1e-12, a_max=None)\n",
    "priors = np.log(pi)\n",
    "\n",
    "y_train_onehot = np.zeros((num_samples, num_classes))\n",
    "y_train_onehot[np.arange(num_samples), y_train] = 1\n",
    "T_all = y_train_onehot.T @ train_data\n",
    "\n",
    "T_sum_all = T_all.sum(axis=1)\n",
    "T_sum_all = np.clip(T_sum_all, a_min=1e-12, a_max=None)\n",
    "\n",
    "print(T_all.shape, T_sum_all[:, np.newaxis].shape)\n",
    "\n",
    "theta = T_all / T_sum_all[:, np.newaxis]\n",
    "theta = np.clip(theta, a_min=1e-12, a_max=None)\n",
    "conds = np.log(theta)"
   ]
  },
  {
   "cell_type": "code",
   "execution_count": 7,
   "id": "385f63eb-345a-4fd6-a492-477323624b31",
   "metadata": {},
   "outputs": [
    {
     "name": "stdout",
     "output_type": "stream",
     "text": [
      "Accuracy: 58.29%\n"
     ]
    }
   ],
   "source": [
    "predicted_label = np.argmax(priors[np.newaxis, :] + test_data @ conds.T, axis=1)\n",
    "\n",
    "accuracy = np.mean(predicted_label == y_test)\n",
    "\n",
    "print(f\"Accuracy: {accuracy * 100:.2f}%\")"
   ]
  },
  {
   "cell_type": "code",
   "execution_count": 11,
   "id": "cda71c8b-9348-4aa8-a19f-2d2fef129401",
   "metadata": {},
   "outputs": [
    {
     "name": "stdout",
     "output_type": "stream",
     "text": [
      "0\n"
     ]
    }
   ],
   "source": [
    "num_classes = np.max(y_train) + 1\n",
    "num_features = train_data.shape[1]\n",
    "num_samples = y_train.shape[0]\n",
    "\n",
    "counts = np.bincount(y_train, minlength=num_classes)\n",
    "_N = num_samples\n",
    "pi = counts / _N\n",
    "#pi = np.clip(pi, a_min=1e-12, a_max=None)\n",
    "priors = np.log(pi)\n",
    "\n",
    "y_train_onehot = np.zeros((num_samples, num_classes))\n",
    "y_train_onehot[np.arange(num_samples), y_train] = 1\n",
    "T_all = y_train_onehot.T @ train_data\n",
    "\n",
    "T_sum_all = T_all.sum(axis=1)\n",
    "#T_sum_all = np.clip(T_sum_all, a_min=1e-12, a_max=None)\n",
    "\n",
    "alpha = 1\n",
    "theta = (T_all + alpha) / (T_sum_all[:, np.newaxis] + alpha * num_features)\n",
    "#theta = np.clip(theta, a_min=1e-12, a_max=None)\n",
    "conds = np.log(theta)"
   ]
  },
  {
   "cell_type": "code",
   "execution_count": 9,
   "id": "771792ff-e024-41a2-9f8e-b34ea141d199",
   "metadata": {},
   "outputs": [
    {
     "name": "stdout",
     "output_type": "stream",
     "text": [
      "Accuracy: 64.86%\n"
     ]
    }
   ],
   "source": [
    "predicted_label = np.argmax(priors[np.newaxis, :] + test_data @ conds.T, axis=1)\n",
    "\n",
    "accuracy = np.mean(predicted_label == y_test)\n",
    "\n",
    "print(f\"Accuracy: {accuracy * 100:.2f}%\")"
   ]
  },
  {
   "cell_type": "code",
   "execution_count": null,
   "id": "241ffbee-8e40-4e18-885f-87d7cc62e6f7",
   "metadata": {},
   "outputs": [],
   "source": []
  }
 ],
 "metadata": {
  "kernelspec": {
   "display_name": "Python 3 (ipykernel)",
   "language": "python",
   "name": "python3"
  },
  "language_info": {
   "codemirror_mode": {
    "name": "ipython",
    "version": 3
   },
   "file_extension": ".py",
   "mimetype": "text/x-python",
   "name": "python",
   "nbconvert_exporter": "python",
   "pygments_lexer": "ipython3",
   "version": "3.10.12"
  }
 },
 "nbformat": 4,
 "nbformat_minor": 5
}
