{
 "cells": [
  {
   "cell_type": "code",
   "execution_count": null,
   "id": "4d75e02a-2711-4051-8199-90db0a47a576",
   "metadata": {},
   "outputs": [],
   "source": [
    "import numpy as np\n",
    "from pathlib import Path\n",
    "import matplotlib.pyplot as plt\n",
    "\n",
    "DATASET_FOLDER = Path('./mnist')\n",
    "class_labels = ['top', 'trouser', 'pullover', 'dress', 'coat', 'sandal', 'shirt', 'sneaker', 'bag', 'ankle boot']"
   ]
  },
  {
   "cell_type": "code",
   "execution_count": null,
   "id": "a5aeb1ee-aab1-428e-a2a3-915ce1e3416e",
   "metadata": {},
   "outputs": [],
   "source": [
    "# Function for one-hot encoding\n",
    "def one_hot_encoding(label_data):\n",
    "    row_number = label_data.shape[0]\n",
    "    num_labels = 10  # MNIST dataset (0-9)\n",
    "    encoded_labels = np.zeros((row_number, num_labels), dtype='int')\n",
    "    encoded_labels[list(range(row_number)), label_data] = 1\n",
    "    return encoded_labels\n",
    "\n",
    "# Function to read pixel data from the dataset\n",
    "def read_pixels(data_path):\n",
    "    with open(data_path, 'rb') as f:\n",
    "        pixel_data = np.frombuffer(f.read(), 'B', offset=16).astype('float32')\n",
    "    flattened_pixels = pixel_data.reshape(-1, 784)\n",
    "    normalized_pixels = flattened_pixels / 255\n",
    "    return normalized_pixels\n",
    "\n",
    "# Function to read label data from the dataset\n",
    "def read_labels(data_path):\n",
    "    with open(data_path, 'rb') as f:\n",
    "        label_data = np.frombuffer(f.read(), 'B', offset=8)\n",
    "    one_hot_encoding_labels = one_hot_encoding(label_data)\n",
    "    return one_hot_encoding_labels\n",
    "\n",
    "# Function to read the entire dataset\n",
    "def read_dataset(path):\n",
    "    X_train = read_pixels(path/\"train-images-idx3-ubyte\")\n",
    "    y_train = read_labels(path/\"train-labels-idx1-ubyte\")\n",
    "    X_test = read_pixels(path/\"t10k-images-idx3-ubyte\")\n",
    "    y_test = read_labels(path/\"t10k-labels-idx1-ubyte\")\n",
    "    return X_train, y_train, X_test, y_test\n",
    "\n",
    "def split_val(X_train, y_train):\n",
    "    return X_train[10000:], y_train[10000:], X_train[:10000], y_train[:10000]\n",
    "\n",
    "def z(X, W):\n",
    "    W0 = W[:,0]\n",
    "    W = W[:,1:]\n",
    "    return W0 + X @ W.T\n",
    "\n",
    "def softmax(Z):\n",
    "    # Z -= np.max(Z, axis=1, keepdims=True)\n",
    "    expZ = np.exp(Z)\n",
    "    return expZ / expZ.sum(axis=1, keepdims=True)\n",
    "\n",
    "def predict(X, W):\n",
    "    Z = z(X, W)\n",
    "    return softmax(Z)\n",
    "\n",
    "def predict_class(X, W):\n",
    "    return np.argmax(predict(X,W), axis=-1)\n",
    "\n",
    "def cross_entropy_loss(Y, T):\n",
    "    return -(np.log(Y) * T).sum() / T.shape[0]\n",
    "\n",
    "def regularization_loss(W, l2):\n",
    "    return l2 / 2 * np.linalg.norm(W[:,1:], 2)\n",
    "\n",
    "def calculate_loss(Y, T, W, l2):\n",
    "    ce_loss = cross_entropy_loss(Y, T)\n",
    "    l2_loss = regularization_loss(W, l2)\n",
    "    return ce_loss + l2_loss\n",
    "\n",
    "def grad(X, Y, T, W, l2):\n",
    "    X = np.hstack((np.ones(shape=(X.shape[0],1)), X))\n",
    "    L_derivative = Y - T\n",
    "    l2_grad = l2 * W\n",
    "    return L_derivative.T @ X + l2_grad\n",
    "\n",
    "def new_weights(X, Y, T, W, lr, l2):\n",
    "    return W - lr * grad(X, Y, T, W, l2)\n",
    "\n",
    "def confusion_matrix(labels, predictions, size):\n",
    "    cm = np.zeros((size,size)).astype(np.int32)\n",
    "    for i in range(len(labels)):\n",
    "        cm[labels[i]][predictions[i]] += 1\n",
    "    return cm"
   ]
  },
  {
   "cell_type": "code",
   "execution_count": null,
   "id": "575776c3-0606-46ae-9a0b-ab0dc7fec71b",
   "metadata": {},
   "outputs": [],
   "source": [
    "X_train, y_train, X_test, y_test = read_dataset(DATASET_FOLDER)\n",
    "X_train, y_train, X_val, y_val = split_val(X_train, y_train)\n",
    "label_train, label_val, label_test = [np.argmax(_, axis=-1) for _ in [y_train, y_val, y_test]]\n",
    "print(*[_.shape for _ in [X_train, y_train, X_val, y_val, X_test, y_test]])"
   ]
  },
  {
   "cell_type": "code",
   "execution_count": null,
   "id": "4a5fac4a-36d8-481a-a666-46b7b0a6ddef",
   "metadata": {},
   "outputs": [],
   "source": [
    "batch_size = 200\n",
    "weights = np.random.normal(0,1,(10,785))\n",
    "lr = 5 * (10 ** (-4))\n",
    "l2 = 10 ** (-4)\n",
    "epochs = 100"
   ]
  },
  {
   "cell_type": "code",
   "execution_count": null,
   "id": "d1cb5714-4350-4d3c-b7b6-38e26e29f93e",
   "metadata": {},
   "outputs": [],
   "source": [
    "def train_model(batch_size, weights, lr, l2, epochs=100):\n",
    "    val_accs = []\n",
    "    _, val_acc = validate(weights, X_val, y_val, label_val)\n",
    "    # val_accs.append(val_acc)\n",
    "    print(f\"Initial acc: {val_acc*100:.2f}\")\n",
    "    for epoch in range(epochs):\n",
    "        weights, loss = train_epoch(batch_size, weights, lr, l2)\n",
    "        _, val_acc = validate(weights, X_val, y_val, label_val)\n",
    "        val_accs.append(val_acc)\n",
    "        print(f\"Epoch {epoch+1}/{epochs}, loss = {loss:.6f}, val_acc = {val_acc*100:.2f}\")\n",
    "    return weights, val_accs\n",
    "\n",
    "def train_epoch(batch_size, weights, lr, l2):\n",
    "    batch_count = int(X_train.shape[0] / batch_size)\n",
    "    loss = 0\n",
    "    for batch in range(batch_count):\n",
    "        X = X_train[batch*batch_size:(batch+1)*batch_size]\n",
    "        T = y_train[batch*batch_size:(batch+1)*batch_size]\n",
    "        Y = predict(X, weights)\n",
    "        loss += calculate_loss(Y, T, weights, l2)\n",
    "        weights = new_weights(X, Y, T, weights, lr, l2)\n",
    "    loss /= batch_count\n",
    "    return weights, loss\n",
    "\n",
    "def validate(weights, X, y, label):\n",
    "    prediction_val = predict_class(X_val, weights)\n",
    "    val_cm=confusion_matrix(label_val, prediction_val, y_val.shape[1])\n",
    "    val_acc=val_cm.trace()/val_cm.sum()\n",
    "    return val_cm, val_acc"
   ]
  },
  {
   "cell_type": "code",
   "execution_count": null,
   "id": "1b51a4f6-7747-45ed-a597-78fe61301d49",
   "metadata": {},
   "outputs": [],
   "source": [
    "default_batch_size = 200\n",
    "default_weight_init = np.random.normal(0, 1, (10, 785))\n",
    "default_lr = 5e-4\n",
    "default_l2 = 1e-4\n",
    "\n",
    "batch_sizes = [1,64,3000]\n",
    "weight_inits = {\n",
    "    'zeros':np.zeros((10,785)), \n",
    "    'uniform':np.random.uniform(-1,1,(10,785)), \n",
    "    'normal':np.random.normal(0,1,(10,785))\n",
    "}\n",
    "lrs = [10**i for i in [-2,-3,-4,-5]] \n",
    "l2s = [10**i for i in [-2,-4,-9]] "
   ]
  },
  {
   "cell_type": "code",
   "execution_count": null,
   "id": "c94698dc-57c4-42f6-b284-46fba76d767a",
   "metadata": {},
   "outputs": [],
   "source": [
    "def draw_comparison_graph(results, legend_label, title, xlabel, ylabel, save_path):\n",
    "    plt.figure(figsize=(10, 6))\n",
    "    for alt, accuracies in results.items():\n",
    "        plt.plot(range(1, len(accuracies)+1), accuracies, label=f'{legend_label}: {alt}')\n",
    "    plt.title(title)\n",
    "    plt.xlabel(xlabel)\n",
    "    plt.ylabel(ylabel)\n",
    "    plt.legend()\n",
    "    plt.grid(True)\n",
    "    plt.savefig(save_path)\n",
    "    plt.show()"
   ]
  },
  {
   "cell_type": "code",
   "execution_count": null,
   "id": "b5afbb9e-9f92-4e92-9f03-c01019b0f9f9",
   "metadata": {},
   "outputs": [],
   "source": [
    "batch_size_results = {}\n",
    "for batch_size in batch_sizes:\n",
    "    _, batch_size_results[batch_size] = train_model(\n",
    "        batch_size, default_weight_init, default_lr, default_l2\n",
    "    )\n",
    "draw_comparison_graph(batch_size_results, 'Batch Size', 'Performance Comparison: Batch Sizes', 'Epochs', 'Accuracy', 'batch_size_comparison.png')"
   ]
  },
  {
   "cell_type": "code",
   "execution_count": null,
   "id": "2670b35a-acab-453f-8f0c-6a1cc870332f",
   "metadata": {},
   "outputs": [],
   "source": [
    "weight_init_results = {}\n",
    "for weight_init in weight_inits:\n",
    "    _, weight_init_results[weight_init] = train_model(\n",
    "        default_batch_size, weight_inits[weight_init], default_lr, default_l2\n",
    "    )\n",
    "    \n",
    "\n",
    "draw_comparison_graph(weight_init_results, 'Weight initialization', 'Performance Comparison: Weight Initialization', 'Epochs', 'Accuracy', 'weight_init_comparison.png')"
   ]
  },
  {
   "cell_type": "code",
   "execution_count": null,
   "id": "d21cd376-d70e-4766-a7b2-4ccae3b155fb",
   "metadata": {},
   "outputs": [],
   "source": [
    "lr_results = {}\n",
    "for lr in lrs:\n",
    "    _, lr_results[lr] = train_model(\n",
    "        default_batch_size, default_weight_init, lr, default_l2\n",
    "    )\n",
    "draw_comparison_graph(lr_results, 'Learning rate', 'Performance Comparison: Learning Rate', 'Epochs', 'Accuracy', 'lr_comparison.png')"
   ]
  },
  {
   "cell_type": "code",
   "execution_count": null,
   "id": "76d185a4-051e-495c-808d-73a3fc3690b1",
   "metadata": {},
   "outputs": [],
   "source": [
    "l2_results = {}\n",
    "for l2 in l2s:\n",
    "    _, l2_results[l2] = train_model(\n",
    "        default_batch_size, default_weight_init, default_lr, l2\n",
    "    )\n",
    "draw_comparison_graph(lr_results, 'Regularization coefficient', 'Performance Comparison: Regularization Coefficient', 'Epochs', 'Accuracy', 'l2_comparison.png')"
   ]
  },
  {
   "cell_type": "code",
   "execution_count": null,
   "id": "ebf3d1fc-0ccd-4de7-8d50-85868d73e7eb",
   "metadata": {},
   "outputs": [],
   "source": [
    "best_batch_size = batch_sizes[0]\n",
    "best_weight_init = weight_inits['zeros']\n",
    "best_lr = lrs[1]\n",
    "best_l2 = lrs[1]\n",
    "\n",
    "best_weights, best_result = train_model(\n",
    "    best_batch_size, best_weight_init, best_lr, best_l2\n",
    ")\n",
    "plt.figure(figsize=(10, 6))\n",
    "plt.plot(range(0, len(best_result)), best_result)\n",
    "plt.title('Performance of Model with Best Hyperparameters')\n",
    "plt.xlabel('Epochs')\n",
    "plt.ylabel('Accuracy')\n",
    "plt.grid(True)\n",
    "plt.savefig('best_performance.png')\n",
    "plt.show()"
   ]
  },
  {
   "cell_type": "code",
   "execution_count": null,
   "id": "ecf192da-e286-459d-b591-07e2aa5d7866",
   "metadata": {},
   "outputs": [],
   "source": [
    "prediction_test = predict_class(X_test, best_weights)\n",
    "cm=confusion_matrix(label_test, prediction_test, y_test.shape[1])\n",
    "acc=cm.trace()/cm.sum()\n",
    "acc"
   ]
  },
  {
   "cell_type": "code",
   "execution_count": null,
   "id": "16525752-e173-4c19-8f02-4faf55eeea78",
   "metadata": {},
   "outputs": [],
   "source": [
    "import matplotlib.pyplot as plt\n",
    "import seaborn as sns\n",
    "\n",
    "title='Confusion Matrix'\n",
    "cmap='Blues'\n",
    "plt.figure(figsize=(8, 6))\n",
    "sns.heatmap(cm, annot=True, fmt='d', cmap=cmap, \n",
    "            xticklabels=class_labels, yticklabels=class_labels)\n",
    "\n",
    "plt.title(title)\n",
    "plt.xlabel('Predicted Labels')\n",
    "plt.ylabel('True Labels')\n",
    "plt.tight_layout()\n",
    "plt.savefig('confusion_matrix_best.png')\n",
    "plt.show()"
   ]
  },
  {
   "cell_type": "code",
   "execution_count": null,
   "id": "6d0f9631-06ed-4c76-a47d-3f757832c0dd",
   "metadata": {},
   "outputs": [],
   "source": [
    "for index, weight in enumerate(best_weights):\n",
    "    weight = weight[1:].reshape(28,28)\n",
    "    plt.matshow(weight, cmap=plt.cm.gray, vmin=0.5*weight.min(), vmax=0.5*weight.max())\n",
    "    plt.savefig(f\"weight_{index}.png\")"
   ]
  },
  {
   "cell_type": "code",
   "execution_count": null,
   "id": "b7c4bc22-d463-43ae-b202-3e02141c5ae4",
   "metadata": {},
   "outputs": [],
   "source": [
    "best_weights = np.load('best.npy')"
   ]
  },
  {
   "cell_type": "code",
   "execution_count": 14,
   "id": "5dd4f42c-6ff8-4cb4-b9e4-62063868e7eb",
   "metadata": {},
   "outputs": [
    {
     "data": {
      "image/png": "[encoded data removed]",
      "text/plain": [
       "<Figure size 640x480 with 10 Axes>"
      ]
     },
     "metadata": {},
     "output_type": "display_data"
    }
   ],
   "source": [
    "fig, axes = plt.subplots(2, 5, figsize=(15, 5))  # 2 rows, 5 columns\n",
    "\n",
    "for i, ax in enumerate(axes.flat):\n",
    "    ax.matshow(best_weights[i,1:].reshape(28,28), cmap=plt.cm.gray, vmin=0.5*weight.min(), vmax=0.5*weight.max())\n",
    "    ax.axis('off')  # Turn off axis labels\n",
    "    ax.set_title(f\"Weight {i+1}\")\n",
    "\n",
    "plt.tight_layout()\n",
    "plt.savefig(\"weights.png\")\n",
    "plt.show()"
   ]
  },
  {
   "cell_type": "code",
   "execution_count": null,
   "id": "3e5c8154-8c0d-4ba9-8253-09bf3f4a8f31",
   "metadata": {},
   "outputs": [],
   "source": []
  }
 ],
 "metadata": {
  "kernelspec": {
   "display_name": "Python 3 (ipykernel)",
   "language": "python",
   "name": "python3"
  },
  "language_info": {
   "codemirror_mode": {
    "name": "ipython",
    "version": 3
   },
   "file_extension": ".py",
   "mimetype": "text/x-python",
   "name": "python",
   "nbconvert_exporter": "python",
   "pygments_lexer": "ipython3",
   "version": "3.10.12"
  }
 },
 "nbformat": 4,
 "nbformat_minor": 5
}
